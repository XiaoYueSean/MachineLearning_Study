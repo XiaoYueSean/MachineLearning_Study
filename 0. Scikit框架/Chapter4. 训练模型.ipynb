{
 "cells": [
  {
   "cell_type": "markdown",
   "metadata": {},
   "source": [
    "# 训练模型\n",
    "我将以一个简单的线性回归模型为例，讨论两种不同的训练方法来得到模型的最优解：\n",
    "\n",
    "1. 直接使用封闭方程进行求根运算，得到模型在当前训练集上的最优参数（即在训练集上使损失函数达到最小值的模型参数）\n",
    "\n",
    "2. 使用迭代优化方法：梯度下降（GD），在训练集上，它可以逐渐调整模型参数以获得最小的损失函数，最终，参数会收敛到和第一种方法相同的的值。\n",
    "\n",
    "明确概念：啥叫训练模型？\n",
    "> 训练模型就是通过设置模型的参数，直到模型最拟合训练集的过程。  \n",
    "但首先要知道怎么测量模型对训练数据的拟合程度是好是坏。（定义cost-function）\n",
    "\n",
    "## 标正规方程求解(the normal equation)\n",
    "对于线性回归模型，解为\n",
    "$$\\hat{\\theta} = ({\\mathbf{X}}^T\\cdot\\mathbf{X})^{-1}\\cdot{\\mathbf{X}}^T\\cdot\\mathbf{y}$$"
   ]
  },
  {
   "cell_type": "code",
   "execution_count": 1,
   "metadata": {
    "ExecuteTime": {
     "end_time": "2021-04-07T06:23:49.134297Z",
     "start_time": "2021-04-07T06:23:49.085348Z"
    }
   },
   "outputs": [],
   "source": [
    "import numpy as np \n",
    "X = 2 * np.random.rand(100, 1)\n",
    "y = 4 + 3 * X + np.random.randn(100, 1)\n",
    "\n",
    "X_b = np.c_[np.ones((100, 1)), X] # 添加 X0 = 1 给每个实例\n",
    "theta_best = np.linalg.inv(X_b.T.dot(X_b)).dot(X_b.T).dot(y)"
   ]
  },
  {
   "cell_type": "code",
   "execution_count": 2,
   "metadata": {
    "ExecuteTime": {
     "end_time": "2021-04-07T06:23:49.616194Z",
     "start_time": "2021-04-07T06:23:49.600450Z"
    }
   },
   "outputs": [
    {
     "data": {
      "text/plain": [
       "array([[3.80316572],\n",
       "       [3.23203031]])"
      ]
     },
     "execution_count": 2,
     "metadata": {},
     "output_type": "execute_result"
    }
   ],
   "source": [
    "theta_best"
   ]
  },
  {
   "cell_type": "markdown",
   "metadata": {},
   "source": [
    "## 梯度下降\n",
    "梯度下降是一种非常通用的优化算法，它能够很好地解决一系列问题。梯度下降的整体思路是通过的迭代来逐渐调整参数使得损失函数达到最小值。\n",
    "\n",
    "假设浓雾下，你迷失在了大山中，你只能感受到自己脚下的坡度。为了最快到达山底，一个最好的方法就是沿着坡度最陡的地方下山。这其实就是梯度下降所做的：它计算误差函数关于参数向量$\\theta$的局部梯度，同时它沿着梯度下降的方向进行下一次迭代。当梯度值为零的时候，就达到了误差函数最小值 。\n",
    "\n",
    "具体来说，开始时需要选定一个随机的$\\theta$（这个值称为随机初始值），然后逐渐去改进它，每一次变化一小步，每一步都试着降低损失函数（例如：均方差损失函数），直到损失函数收敛到一个最小值\n",
    "\n",
    "$$\n",
    "\\frac{\\partial}{\\partial \\theta_{j}} M S E(\\theta)=\\frac{2}{m} \\sum_{i=1}^{m}\\left(\\theta^{T} \\cdot \\mathbf{x}^{(i)}-y^{(i)}\\right) x_{j}^{(i)}\n",
    "$$\n",
    "\n",
    "### 批量梯度下降\n",
    "\n",
    "使用梯度下降的过程中，你需要计算每一个 $\\theta_j$ 下损失函数的梯度。换句话说，你需要计算当$\\theta_j$变化一点点时，损失函数改变了多少。这称为偏导数，它就像当你面对东方的时候问：\"我脚下的坡度是多少？\"。然后面向北方的时候问同样的问题（如果你能想象一个超过三维的宇宙，可以对所有的方向都这样做）。公式 4-5 计算关于 $\\theta_j$ 的损失函数的偏导数，记为 $\\frac{\\partial }{\\partial \\theta_j}MSE(\\theta)$"
   ]
  },
  {
   "cell_type": "code",
   "execution_count": 3,
   "metadata": {
    "ExecuteTime": {
     "end_time": "2021-04-07T06:23:50.428535Z",
     "start_time": "2021-04-07T06:23:50.424196Z"
    }
   },
   "outputs": [],
   "source": [
    "import numpy as np"
   ]
  },
  {
   "cell_type": "code",
   "execution_count": 4,
   "metadata": {
    "ExecuteTime": {
     "end_time": "2021-04-07T06:23:50.729305Z",
     "start_time": "2021-04-07T06:23:50.717705Z"
    }
   },
   "outputs": [
    {
     "name": "stdout",
     "output_type": "stream",
     "text": [
      "批量梯度下降最优参数为\n",
      "[[3.80316348]\n",
      " [3.23203211]]\n"
     ]
    }
   ],
   "source": [
    "# 手推\n",
    "eta = 0.05\n",
    "n_iterations = 1000\n",
    "m = 100\n",
    "\n",
    "theta = np.random.randn(2,1) # 初始化参数\n",
    "for iteration in range(n_iterations):\n",
    "    gradients = 2/m * X_b.T.dot(X_b.dot(theta) - y)\n",
    "    theta = theta - eta * gradients\n",
    "    \n",
    "print('批量梯度下降最优参数为\\n{}'.format(theta))"
   ]
  },
  {
   "cell_type": "markdown",
   "metadata": {},
   "source": [
    "> 在这个方程中每一步计算时都包含了整个训练集 $\\mathbf{X}$，这也是为什么这个算法称为批量梯度下降：每一次训练过程都使用所有的的训练数据。因此，在大数据集上，其会变得相当的慢（但是我们接下来将会介绍更快的梯度下降算法）。然而，梯度下降的运算规模和特征的数量成正比。训练一个数千数量特征的线性回归模型使用*梯度下降要比使用正规方程快的多。"
   ]
  },
  {
   "cell_type": "markdown",
   "metadata": {},
   "source": [
    "***优点***：\n",
    "+ 可以计算出最优解\n",
    "+ 在小样本中，速度快\n",
    "\n",
    "***缺点***：\n",
    "+ 每一步梯度计算时需要使用整个训练集，导致在数据量大的情况下，计算会非常慢\n",
    "+ 如果cost function 不是凸函数，得到的解可能不是最优解。"
   ]
  },
  {
   "cell_type": "markdown",
   "metadata": {},
   "source": [
    "### 随机梯度下降\n",
    "批量梯度下降的最要问题是计算每一步的梯度时都需要使用整个训练集，这导致在规模较大的数据集上，其会变得非常的慢。与其完全相反的随机梯度下降，在每一步的梯度计算上只随机选取训练集中的一个样本。很明显，由于每一次的操作都使用了非常少的数据，这样使得算法变得非常快。由于每一次迭代，只需要在内存中有一个实例，这使随机梯度算法可以在大规模训练集上使用。\n",
    "\n",
    "另一方面，由于它的随机性，与批量梯度下降相比，其呈现出更多的不规律性：它到达最小值不是平缓的下降，损失函数会忽高忽低，只是在大体上呈下降趋势。随着时间的推移，它会非常的靠近最小值，但是它不会停止在一个值上，它会一直在这个值附近摆动。因此，当算法停止的时候，最后的参数还不错，但不是最优值\n",
    "\n",
    "优点：\n",
    "+ 可以在大样本中使用，收敛的速度快\n",
    "+ 可以逃离局部最优\n",
    "+ 每次迭代只需要在内存运行一个少量数据  \n",
    "\n",
    "缺点：\n",
    "+ 定位不出最优解\n",
    "\n",
    "注意：\n",
    "随机梯度下降时，训练实例必须独立且均匀分布，以确保平均来说将参数拉向全局最优。确保这一点的简单方法就是训练过程中对实例进行随机混洗。"
   ]
  },
  {
   "cell_type": "code",
   "execution_count": 5,
   "metadata": {
    "ExecuteTime": {
     "end_time": "2021-04-07T06:23:52.914815Z",
     "start_time": "2021-04-07T06:23:52.820556Z"
    }
   },
   "outputs": [
    {
     "name": "stdout",
     "output_type": "stream",
     "text": [
      "随机梯度下降最优参数为\n",
      "[[3.81659798]\n",
      " [3.27096253]]\n"
     ]
    }
   ],
   "source": [
    "n_epochs = 50\n",
    "t0, t1 = 5, 50  #learning_schedule的超参数\n",
    "\n",
    "def learning_schedule(t):\n",
    "    return t0 / (t + t1)\n",
    "\n",
    "theta = np.random.randn(2,1)\n",
    "\n",
    "for epoch in range(n_epochs):\n",
    "    for i in range(m):\n",
    "        random_index = np.random.randint(m)\n",
    "        xi = X_b[random_index:random_index+1]\n",
    "        yi = y[random_index:random_index+1]\n",
    "        gradients = 2 * xi.T.dot(xi.dot(theta)-yi)\n",
    "        eta = learning_schedule(epoch * m + i)\n",
    "        theta = theta - eta * gradients\n",
    "        \n",
    "print('随机梯度下降最优参数为\\n{}'.format(theta))"
   ]
  },
  {
   "cell_type": "markdown",
   "metadata": {},
   "source": [
    "使用Scikit-Learn完成线性回归的随机梯度下降"
   ]
  },
  {
   "cell_type": "code",
   "execution_count": 6,
   "metadata": {
    "ExecuteTime": {
     "end_time": "2021-04-07T06:23:54.611497Z",
     "start_time": "2021-04-07T06:23:53.891523Z"
    }
   },
   "outputs": [
    {
     "data": {
      "text/plain": [
       "SGDRegressor(eta0=0.1, penalty=None)"
      ]
     },
     "execution_count": 6,
     "metadata": {},
     "output_type": "execute_result"
    }
   ],
   "source": [
    "from sklearn.linear_model import SGDRegressor\n",
    "sgd_reg = SGDRegressor(max_iter=1000, penalty=None, eta0=0.1)\n",
    "sgd_reg.fit(X,y.ravel())"
   ]
  },
  {
   "cell_type": "code",
   "execution_count": 7,
   "metadata": {
    "ExecuteTime": {
     "end_time": "2021-04-07T06:23:54.645849Z",
     "start_time": "2021-04-07T06:23:54.641434Z"
    }
   },
   "outputs": [
    {
     "data": {
      "text/plain": [
       "(array([3.80930073]), array([3.29105247]))"
      ]
     },
     "execution_count": 7,
     "metadata": {},
     "output_type": "execute_result"
    }
   ],
   "source": [
    "sgd_reg.intercept_, sgd_reg.coef_"
   ]
  },
  {
   "cell_type": "markdown",
   "metadata": {},
   "source": [
    "### 小批量梯度下降\n",
    "优点：\n",
    "+ 可以通过矩阵运算的硬件优化得到一个较好的训练表现\n",
    "+ 小批量梯度下降会比随机梯度更靠近最小值\n",
    "\n",
    "缺点：\n",
    "+ 很难摆脱局部最优"
   ]
  },
  {
   "cell_type": "markdown",
   "metadata": {},
   "source": [
    "## 多项式回归\n",
    "如果你的数据实际上比简单的直线更复杂呢？ 令人惊讶的是，你依然可以使用线性模型来拟合非线性数据。 一个简单的方法是对每个特征进行加权后作为新的特征，然后训练一个线性模型在这个扩展的特征集。"
   ]
  },
  {
   "cell_type": "code",
   "execution_count": 8,
   "metadata": {
    "ExecuteTime": {
     "end_time": "2021-04-07T06:23:55.743276Z",
     "start_time": "2021-04-07T06:23:55.740017Z"
    }
   },
   "outputs": [],
   "source": [
    "m = 100\n",
    "X = 6 * np.random.rand(m, 1) - 3\n",
    "y = 0.5 * X**2 + X + 2 + np.random.randn(m, 1)"
   ]
  },
  {
   "cell_type": "markdown",
   "metadata": {},
   "source": [
    "## 学习曲线\n",
    "如果你使用一个高阶的多项式回归，你可能发现它的拟合程度要比普通的线性回归要好的多。高阶的模型也意味着复杂，太复杂可能会对数据过拟合。\n",
    "\n",
    "可以使用交叉验证来估计一个模型的泛化能力。如果一个模型在训练集上表现良好，通过交叉验证指标却得出其泛化能力很差，那么你的模型就是过拟合了。如果在这两方面都表现不好，那么它就是欠拟合了。这种方法可以告诉我们，你的模型是太复杂还是太简单了。\n",
    "\n",
    "另一种方法是观察学习曲线：画出模型在训练集上的表现，同时画出以训练集规模为自变量的训练集函数。为了得到图像，需要在训练集的不同规模子集上进行多次训练。下面的代码定义了一个函数，用来画出给定训练集后的模型学习曲线："
   ]
  },
  {
   "cell_type": "code",
   "execution_count": 9,
   "metadata": {
    "ExecuteTime": {
     "end_time": "2021-04-07T06:24:00.656983Z",
     "start_time": "2021-04-07T06:24:00.353527Z"
    }
   },
   "outputs": [],
   "source": [
    "from sklearn.metrics import mean_squared_error\n",
    "from sklearn.model_selection import train_test_split\n",
    "from matplotlib import pyplot as plt\n",
    "def plot_learning_curves(model, X, y):\n",
    "    X_train, X_val, y_train, y_val = train_test_split(X, y, test_size=0.2)\n",
    "    train_errors, val_errors = [], []\n",
    "    for m in range(1, len(X_train)):\n",
    "        model.fit(X_train[:m], y_train[:m])\n",
    "        y_train_predict = model.predict(X_train[:m])\n",
    "        y_val_predict = model.predict(X_val)\n",
    "        train_errors.append(mean_squared_error(y_train_predict, y_train[:m]))\n",
    "        val_errors.append(mean_squared_error(y_val_predict, y_val))\n",
    "    plt.figure(figsize=(20,10))\n",
    "    plt.plot(np.sqrt(train_errors), \"r-+\", linewidth=2, label=\"train\")\n",
    "    plt.plot(np.sqrt(val_errors), \"b-\", linewidth=3, label=\"val\")"
   ]
  },
  {
   "cell_type": "code",
   "execution_count": 10,
   "metadata": {
    "ExecuteTime": {
     "end_time": "2021-04-07T06:24:01.547873Z",
     "start_time": "2021-04-07T06:24:01.233854Z"
    },
    "scrolled": false
   },
   "outputs": [
    {
     "data": {
      "image/png": "[encoded data removed]",
      "text/plain": [
       "<Figure size 1440x720 with 1 Axes>"
      ]
     },
     "metadata": {
      "needs_background": "light"
     },
     "output_type": "display_data"
    }
   ],
   "source": [
    "from sklearn.linear_model import LinearRegression\n",
    "lin_reg = LinearRegression()\n",
    "plot_learning_curves(lin_reg, X, y)"
   ]
  },
  {
   "cell_type": "markdown",
   "metadata": {},
   "source": [
    "我们观察训练集的表现：当训练集只有一两个样本的时候，模型能够非常好的拟合它们，这也是为什么曲线是从零开始的原因。但是当加入了一些新的样本的时候，训练集上的拟合程度变得难以接受，出现这种情况有两个原因，一是因为数据中含有噪声，另一个是数据根本不是线性的。因此随着数据规模的增大，误差也会一直增大，直到达到高原地带并趋于稳定，在之后，继续加入新的样本，模型的平均误差不会变得更好或者更差。我们继续来看模型在验证集上的表现，当以非常少的样本去训练时，模型不能恰当的泛化，也就是为什么验证误差一开始是非常大的。当训练样本变多的到时候，模型学习的东西变多，验证误差开始缓慢的下降。但是一条直线不可能很好的拟合这些数据，因此最后误差会到达在一个高原地带并趋于稳定，最后和训练集的曲线非常接近。\n",
    "\n",
    "上面的曲线表现了一个典型的欠拟合模型，两条曲线都到达高原地带并趋于稳定，并且最后两条曲线非常接近，同时误差值非常大。"
   ]
  },
  {
   "cell_type": "markdown",
   "metadata": {},
   "source": [
    "> 提示  \n",
    "如果你的模型在训练集上是欠拟合的，添加更多的样本是没用的。你需要使用一个更复杂的模型或者找到更好的特征"
   ]
  },
  {
   "cell_type": "markdown",
   "metadata": {},
   "source": [
    "***相同数据上3阶多项式模型拟合的学习曲线***"
   ]
  },
  {
   "cell_type": "code",
   "execution_count": 11,
   "metadata": {
    "ExecuteTime": {
     "end_time": "2021-04-07T06:24:05.755498Z",
     "start_time": "2021-04-07T06:24:05.340679Z"
    }
   },
   "outputs": [
    {
     "data": {
      "image/png": "[encoded data removed]",
      "text/plain": [
       "<Figure size 1440x720 with 1 Axes>"
      ]
     },
     "metadata": {
      "needs_background": "light"
     },
     "output_type": "display_data"
    }
   ],
   "source": [
    "from sklearn.pipeline import Pipeline\n",
    "from sklearn.preprocessing import PolynomialFeatures\n",
    "\n",
    "polynomial_regression = Pipeline((\n",
    "    (\"poly_features\", PolynomialFeatures(degree=3, include_bias=False)),\n",
    "    (\"sgd_reg\", LinearRegression()),\n",
    "))\n",
    "\n",
    "plot_learning_curves(polynomial_regression, X, y)"
   ]
  },
  {
   "cell_type": "markdown",
   "metadata": {
    "ExecuteTime": {
     "end_time": "2021-03-28T08:49:11.603692Z",
     "start_time": "2021-03-28T08:49:11.600169Z"
    }
   },
   "source": [
    "这幅图像和之前的有一点点像，但是其有两个非常重要的不同点：\n",
    "\n",
    "在训练集上，误差要比线性回归模型低的多。\n",
    "图中的两条曲线之间有间隔，这意味模型在训练集上的表现要比验证集上好的多，这也是模型过拟合的显著特点。当然，如果你使用了更大的训练数据，这两条曲线最后会非常的接近\n",
    "\n",
    "**改善过拟合的一种很好的方法是加入更多的数据**"
   ]
  },
  {
   "cell_type": "markdown",
   "metadata": {},
   "source": [
    "## 正则化线性模型\n",
    "降低模型的过拟合的好方法是正则化这个模型（即限制它）：模型有越少的自由度，就越难以拟合数据。正则化多项式模型的一种简单方法就是减少多项式的次数。\n",
    "\n",
    "对于线性模型，正则化通常是通过约束模型的权重来实现的。一般有三种正则化***岭回归， Lasso回归， 弹性网络***\n",
    "\n",
    "### 岭回归\n",
    "岭回归（也称为 Tikhonov 正则化）是线性回归的正则化版：在损失函数上直接加上一个正则项$$\\alpha\\sum_{i=1}^n\\theta_i^2$$  这使得学习算法不仅能够拟合数据，而且能够使模型的参数权重尽量的小。注意到这个正则项只有在训练过程中才会被加到损失函数。当得到完成训练的模型后，我们应该使用没有正则化的测量方法去评价模型的表现。\n",
    "\n",
    "> 提示\n",
    ">\n",
    "> 一般情况下，训练过程使用的损失函数和测试过程使用的评价函数是不一样的。除了正则化，还有一个不同：训练时的损失函数应该在优化过程中易于求导，而在测试过程中，评价函数更应该接近最后的客观表现。一个好的例子：在分类训练中我们使用对数损失（马上我们会讨论它）作为损失函数，但是我们却使用精确率/召回率来作为它的评价函数。\n",
    "\n",
    "超参数 $\\alpha $决定了你想正则化这个模型的强度。如果 $\\alpha=0$ 那此时的岭回归便变为了线性回归。如果 $\\alpha$非常的大，所有的权重最后都接近于零，最后结果将是一条穿过数据平均值的水平直线。 以下是岭回归的损失函数：\n",
    "$$J(\\theta)=MSE(\\theta)+\\alpha\\frac{1}{2}\\sum\\limits_{i=1}^n\\theta_i^2$$\n",
    "\n",
    "值得注意的是偏差 $\\theta_0$ 是没有被正则化的（累加运算的开始是 $i=1$ 而不是 $i=0$）\n",
    "\n",
    "***在执行岭回归前缩放数据是很重要的，因为岭回归对输入特征非常敏感***\n",
    "\n",
    "#### 岭回归闭合解\n",
    "$$\\hat{\\theta} =({\\mathbf{X}}^T\\cdot\\mathbf{X}+\\alpha\\mathbf{A})^{-1}\\cdot{\\mathbf{X}}^T\\cdot\\mathbf{y}$$\n"
   ]
  },
  {
   "cell_type": "code",
   "execution_count": 12,
   "metadata": {
    "ExecuteTime": {
     "end_time": "2021-04-07T06:24:15.205431Z",
     "start_time": "2021-04-07T06:24:15.191281Z"
    }
   },
   "outputs": [
    {
     "data": {
      "text/plain": [
       "array([[5.1508953]])"
      ]
     },
     "execution_count": 12,
     "metadata": {},
     "output_type": "execute_result"
    }
   ],
   "source": [
    "from sklearn.linear_model import Ridge\n",
    "ridge_reg = Ridge(alpha=1, solver=\"cholesky\")\n",
    "ridge_reg.fit(X, y)\n",
    "ridge_reg.predict([[1.5]])"
   ]
  },
  {
   "cell_type": "markdown",
   "metadata": {},
   "source": [
    "\n",
    "\n",
    "#### 岭回归梯度随机下降法\n",
    "\n",
    "`penalty`参数指的是正则项的惩罚类型。指定“l2”表明你要在损失函数上添加一项：权重向量 $\\ell_2$ 范数平方的一半，这就是简单的岭回归。"
   ]
  },
  {
   "cell_type": "code",
   "execution_count": 29,
   "metadata": {
    "ExecuteTime": {
     "end_time": "2021-04-07T09:09:40.788285Z",
     "start_time": "2021-04-07T09:09:40.781093Z"
    }
   },
   "outputs": [
    {
     "data": {
      "text/plain": [
       "array([4.81962005])"
      ]
     },
     "execution_count": 29,
     "metadata": {},
     "output_type": "execute_result"
    }
   ],
   "source": [
    "sgd_reg = SGDRegressor(penalty=\"l2\")\n",
    "sgd_reg.fit(X, y.ravel())\n",
    "sgd_reg.predict([[1.5]])"
   ]
  },
  {
   "cell_type": "markdown",
   "metadata": {},
   "source": [
    "### Lasso 回归\n",
    "Lasso回归是另一种正则化的线性回归，就像岭回归，它在损失函数上添加了一个正则项，它增加的是 $\\ell_1$范数,损失函数如下\n",
    "$$J(\\theta)=MSE(\\theta)+\\alpha\\sum\\limits_{i=1}^n\\left|\\theta_i \\right|$$\n",
    "\n",
    "Lasso回归很重要的特点是它倾向于完全消除最不重要特征的权重（也就是将他们设置为0）。也就是说Lasso回归自动的进行特征选择同时输出一个稀疏模型（即，具有很少的非零权重）"
   ]
  },
  {
   "cell_type": "code",
   "execution_count": 14,
   "metadata": {
    "ExecuteTime": {
     "end_time": "2021-04-07T06:44:53.806076Z",
     "start_time": "2021-04-07T06:44:53.798314Z"
    }
   },
   "outputs": [
    {
     "data": {
      "text/plain": [
       "array([5.10182137])"
      ]
     },
     "execution_count": 14,
     "metadata": {},
     "output_type": "execute_result"
    }
   ],
   "source": [
    "from sklearn.linear_model import Lasso\n",
    "lasso_reg = Lasso(alpha=0.1) # 或者 lasso_reg = SGDRegressor(penlty=\"l1\")\n",
    "lasso_reg.fit(X, y)\n",
    "lasso_reg.predict([[1.5]])"
   ]
  },
  {
   "cell_type": "markdown",
   "metadata": {},
   "source": [
    "### 弹性网络\n",
    "弹性网络介于 Ridge 回归和 Lasso 回归之间。它的正则项是 Ridge 回归和 Lasso 回归正则项的简单混合，同时你可以控制它们的混合率。损失函数如下：\n",
    "$$J(\\theta)=MSE(\\theta)+r\\alpha\\sum\\limits_{i=1}^n\\left|\\theta_i \\right|+\\frac{1-r}{2}\\alpha\\sum\\limits_{i=1}^n\\theta_i^2$$\n",
    "\n",
    "你可以控制混合比例r，当r=0时，弹性网络等效于岭回归，当r=1时，弹性网络等效于Lasso回归。\n",
    "\n",
    "\n",
    "### 早期停止法（Early Stopping）\n",
    "\n",
    "对于梯度下降这一类算法，有一种非常特殊的正则化方法，就像***梯度下降在验证错误达到最小值时立即停止训练***那样。我们称为早期停止法。随着训练的进行，算法一直学习，它在训练集上的预测误差（RMSE）自然而然的下降。然而一段时间后，验证误差停止下降，并开始上升。这意味着模型在训练集上开始出现过拟合。一旦模型在验证集上错误达到最小值，便提早停止训练。这种简单有效的正则化方法被称为“完美的免费午餐”"
   ]
  },
  {
   "cell_type": "code",
   "execution_count": 57,
   "metadata": {
    "ExecuteTime": {
     "end_time": "2021-04-07T09:26:01.966764Z",
     "start_time": "2021-04-07T09:26:00.817466Z"
    }
   },
   "outputs": [],
   "source": [
    "from sklearn.base import clone\n",
    "from sklearn.preprocessing import StandardScaler\n",
    "np.random.seed(42)\n",
    "m = 100\n",
    "X = 6 * np.random.rand(m, 1) - 3\n",
    "y = 2 + X + 0.5 * X**2 + np.random.randn(m, 1)\n",
    "\n",
    "X_train, X_val, y_train, y_val = train_test_split(X[:50], y[:50].ravel(), test_size=0.5, random_state=10)\n",
    "\n",
    "poly_scaler = Pipeline([\n",
    "        (\"poly_features\", PolynomialFeatures(degree=90, include_bias=False)),\n",
    "        (\"std_scaler\", StandardScaler()),\n",
    "    ])\n",
    "\n",
    "X_train_poly_scaled = poly_scaler.fit_transform(X_train)\n",
    "X_val_poly_scaled = poly_scaler.transform(X_val)\n",
    "\n",
    "sgd_reg = SGDRegressor(max_iter=1,\n",
    "                       tol=-np.infty,\n",
    "                       penalty=None,\n",
    "                       eta0=0.0005,\n",
    "                       warm_start=True,\n",
    "                       learning_rate=\"constant\",\n",
    "                       random_state=42)\n",
    "\n",
    "minimum_val_error = float(\"inf\")\n",
    "best_epoch = None\n",
    "best_model = None\n",
    "\n",
    "train_errors, val_errors = [], []\n",
    "for epoch in range(1000):\n",
    "    sgd_reg.fit(X_train_poly_scaled, y_train)\n",
    "    y_val_predict = sgd_reg.predict(X_val_poly_scaled)\n",
    "    y_train_predict = sgd_reg.predict(X_train_poly_scaled)\n",
    "    \n",
    "    val_error = mean_squared_error(y_val, y_val_predict)\n",
    "    train_error = mean_squared_error(y_train, y_train_predict)\n",
    "    val_errors.append(val_error)\n",
    "    train_errors.append(train_error)\n",
    "    \n",
    "    if val_error < minimum_val_error:\n",
    "        minimum_val_error = val_error\n",
    "        best_epoch = epoch\n",
    "        best_model = clone(sgd_reg)"
   ]
  },
  {
   "cell_type": "code",
   "execution_count": 65,
   "metadata": {
    "ExecuteTime": {
     "end_time": "2021-04-07T09:27:55.851444Z",
     "start_time": "2021-04-07T09:27:55.845775Z"
    },
    "scrolled": true
   },
   "outputs": [
    {
     "data": {
      "text/plain": [
       "13.134210529330037"
      ]
     },
     "execution_count": 65,
     "metadata": {},
     "output_type": "execute_result"
    }
   ],
   "source": [
    "best_model.fit(X_train_poly_scaled, y_train)\n",
    "mean_squared_error(best_model.predict(X_val_poly_scaled), y_val)"
   ]
  },
  {
   "cell_type": "code",
   "execution_count": 67,
   "metadata": {
    "ExecuteTime": {
     "end_time": "2021-04-07T09:28:27.114952Z",
     "start_time": "2021-04-07T09:28:26.946982Z"
    }
   },
   "outputs": [
    {
     "data": {
      "text/plain": [
       "1.3514536885949358"
      ]
     },
     "execution_count": 67,
     "metadata": {},
     "output_type": "execute_result"
    }
   ],
   "source": [
    "for epoch in range(best_epoch):\n",
    "    best_model.fit(X_train_poly_scaled, y_train)\n",
    "mean_squared_error(best_model.predict(X_val_poly_scaled), y_val)"
   ]
  },
  {
   "cell_type": "code",
   "execution_count": 66,
   "metadata": {
    "ExecuteTime": {
     "end_time": "2021-04-07T09:27:56.318203Z",
     "start_time": "2021-04-07T09:27:56.294613Z"
    }
   },
   "outputs": [
    {
     "data": {
      "text/plain": [
       "[14.57517256385085,\n",
       " 14.098243099724682,\n",
       " 13.600937248825128,\n",
       " 13.134210529330037,\n",
       " 12.699950202097543,\n",
       " 12.295115752237274,\n",
       " 11.916629984938302,\n",
       " 11.561778670127847,\n",
       " 11.228193817646725,\n",
       " 10.913806728046364,\n",
       " 10.61680536602888,\n",
       " 10.335598079061795,\n",
       " 10.068782874511232,\n",
       " 9.815121374510463,\n",
       " 9.573516695172898,\n",
       " 9.34299462108669,\n",
       " 9.122687550778448,\n",
       " 8.911820775847671,\n",
       " 8.709700728682073,\n",
       " 8.515704893614462,\n",
       " 8.329273126188777,\n",
       " 8.149900166613213,\n",
       " 7.977129167935422,\n",
       " 7.810546088170643,\n",
       " 7.649774819533558,\n",
       " 7.4944729478833025,\n",
       " 7.344328052161997,\n",
       " 7.199054467547294,\n",
       " 7.058390447710459,\n",
       " 6.922095671354856,\n",
       " 6.789949046421635,\n",
       " 6.661746772252558,\n",
       " 6.537300625811029,\n",
       " 6.41643644296214,\n",
       " 6.298992769950962,\n",
       " 6.184819663718982,\n",
       " 6.073777622666121,\n",
       " 5.9657366319849965,\n",
       " 5.8605753098377305,\n",
       " 5.758180142472814,\n",
       " 5.6584447979402706,\n",
       " 5.561269509399489,\n",
       " 5.466560520160146,\n",
       " 5.37422958358184,\n",
       " 5.28419351180705,\n",
       " 5.196373768034932,\n",
       " 5.110696097677848,\n",
       " 5.027090194292709,\n",
       " 4.945489396657403,\n",
       " 4.865830413779263,\n",
       " 4.788053074986268,\n",
       " 4.712100102569844,\n",
       " 4.637916904727224,\n",
       " 4.56545138679646,\n",
       " 4.494653778992859,\n",
       " 4.425476479046084,\n",
       " 4.3578739083052715,\n",
       " 4.291802380028316,\n",
       " 4.227219978703686,\n",
       " 4.164086449370197,\n",
       " 4.102363096004613,\n",
       " 4.042012688139901,\n",
       " 3.9829993749598085,\n",
       " 3.925288606189671,\n",
       " 3.868847059169569,\n",
       " 3.8136425715553237,\n",
       " 3.7596440791462076,\n",
       " 3.7068215583858906,\n",
       " 3.6551459731262446,\n",
       " 3.604589225282242,\n",
       " 3.5551241090409444,\n",
       " 3.506724268319,\n",
       " 3.4593641571913696,\n",
       " 3.41301900303945,\n",
       " 3.367664772189915,\n",
       " 3.323278137836358,\n",
       " 3.27983645005479,\n",
       " 3.237317707740919,\n",
       " 3.1957005323128014,\n",
       " 3.154964143036277,\n",
       " 3.115088333843366,\n",
       " 3.076053451525305,\n",
       " 3.037840375192315,\n",
       " 3.0004304969016538,\n",
       " 2.9638057033641685,\n",
       " 2.927948358647306,\n",
       " 2.8928412877996403,\n",
       " 2.8584677613285407,\n",
       " 2.824811480468264,\n",
       " 2.7918565631813554,\n",
       " 2.759587530840842,\n",
       " 2.72798929554531,\n",
       " 2.697047148022886,\n",
       " 2.6667467460838923,\n",
       " 2.637074103585153,\n",
       " 2.608015579872106,\n",
       " 2.5795578696676067,\n",
       " 2.5516879933788275,\n",
       " 2.524393287795914,\n",
       " 2.4976613971583266,\n",
       " 2.471480264566514,\n",
       " 2.4458381237184885,\n",
       " 2.4207234909523807,\n",
       " 2.396125157577525,\n",
       " 2.3720321824780335,\n",
       " 2.348433884973937,\n",
       " 2.325319837926161,\n",
       " 2.3026798610726016,\n",
       " 2.280504014583532,\n",
       " 2.258782592825358,\n",
       " 2.237506118322615,\n",
       " 2.2166653359087274,\n",
       " 2.196251207056814,\n",
       " 2.17625490438231,\n",
       " 2.1566678063098004,\n",
       " 2.1374814918970038,\n",
       " 2.118687735809199,\n",
       " 2.1002785034379112,\n",
       " 2.0822459461580456,\n",
       " 2.064582396717999,\n",
       " 2.04728036475762,\n",
       " 2.0303325324492105,\n",
       " 2.0137317502570404,\n",
       " 1.9974710328110814,\n",
       " 1.981543554890961,\n",
       " 1.965942647516284,\n",
       " 1.9506617941397422,\n",
       " 1.9356946269396114,\n",
       " 1.921034923208363,\n",
       " 1.9066766018343428,\n",
       " 1.8926137198735609,\n",
       " 1.878840469208848,\n",
       " 1.865351173293695,\n",
       " 1.852140283978245,\n",
       " 1.8392023784150304,\n",
       " 1.8265321560421273,\n",
       " 1.814124435641514,\n",
       " 1.8019741524705177,\n",
       " 1.7900763554642942,\n",
       " 1.7784262045073884,\n",
       " 1.7670189677724955,\n",
       " 1.7558500191246031,\n",
       " 1.744914835588782,\n",
       " 1.734208994879916,\n",
       " 1.7237281729927703,\n",
       " 1.713468141850822,\n",
       " 1.7034247670123321,\n",
       " 1.693594005432179,\n",
       " 1.6839719032780818,\n",
       " 1.674554593799784,\n",
       " 1.665338295249889,\n",
       " 1.6563193088550685,\n",
       " 1.647494016836365,\n",
       " 1.6388588804773858,\n",
       " 1.6304104382392262,\n",
       " 1.6221453039209257,\n",
       " 1.614060164864384,\n",
       " 1.6061517802026541,\n",
       " 1.5984169791505192,\n",
       " 1.590852659336368,\n",
       " 1.5834557851743463,\n",
       " 1.576223386275826,\n",
       " 1.569152555899203,\n",
       " 1.5622404494371998,\n",
       " 1.5554842829406323,\n",
       " 1.5488813316779053,\n",
       " 1.542428928729264,\n",
       " 1.5361244636150544,\n",
       " 1.5299653809571307,\n",
       " 1.523949179172635,\n",
       " 1.5180734091993762,\n",
       " 1.5123356732520465,\n",
       " 1.5067336236085378,\n",
       " 1.501264961425652,\n",
       " 1.4959274355835013,\n",
       " 1.4907188415578916,\n",
       " 1.4856370203200513,\n",
       " 1.4806798572630304,\n",
       " 1.4758452811541551,\n",
       " 1.471131263112886,\n",
       " 1.4665358156135013,\n",
       " 1.4620569915119892,\n",
       " 1.4576928830966012,\n",
       " 1.453441621161445,\n",
       " 1.4493013741026368,\n",
       " 1.4452703470364185,\n",
       " 1.441346780938727,\n",
       " 1.437528951805715,\n",
       " 1.4338151698347097,\n",
       " 1.4302037786251096,\n",
       " 1.4266931543987715,\n",
       " 1.4232817052393703,\n",
       " 1.4199678703503236,\n",
       " 1.4167501193308096,\n",
       " 1.413626951469435,\n",
       " 1.4105968950551497,\n",
       " 1.407658506704973,\n",
       " 1.4048103707081367,\n",
       " 1.4020510983862386,\n",
       " 1.3993793274690316,\n",
       " 1.3967937214854536,\n",
       " 1.394292969169545,\n",
       " 1.3918757838808729,\n",
       " 1.3895409030391384,\n",
       " 1.3872870875726009,\n",
       " 1.3851131213799772,\n",
       " 1.3830178108055142,\n",
       " 1.3809999841268858,\n",
       " 1.3790584910556316,\n",
       " 1.3771922022497967,\n",
       " 1.3754000088385008,\n",
       " 1.373680821958139,\n",
       " 1.3720335722999293,\n",
       " 1.3704572096685177,\n",
       " 1.3689507025513885,\n",
       " 1.3675130376988156,\n",
       " 1.366143219714062,\n",
       " 1.36484027065363,\n",
       " 1.3636032296372742,\n",
       " 1.36243115246754,\n",
       " 1.3613231112586284,\n",
       " 1.3602781940743094,\n",
       " 1.359295504574699,\n",
       " 1.3583741616716654,\n",
       " 1.3575132991926424,\n",
       " 1.356712065552672,\n",
       " 1.355969623434436,\n",
       " 1.3552851494761151,\n",
       " 1.3546578339668502,\n",
       " 1.3540868805496444,\n",
       " 1.353571505931499,\n",
       " 1.3531109396006271,\n",
       " 1.3527044235505485,\n",
       " 1.352351212010913,\n",
       " 1.3520505711848652,\n",
       " 1.351801778992808,\n",
       " 1.3516041248224062,\n",
       " 1.351456909284642,\n",
       " 1.3513594439758314,\n",
       " 1.351311051245387,\n",
       " 1.35131106396924,\n",
       " 1.3513588253287425,\n",
       " 1.3514536885949358,\n",
       " 1.3515950169180428,\n",
       " 1.3517821831220518,\n",
       " 1.3520145695042745,\n",
       " 1.3522915676397398,\n",
       " 1.3526125781903169,\n",
       " 1.3529770107184396,\n",
       " 1.35338428350533,\n",
       " 1.3538338233735876,\n",
       " 1.354325065514056,\n",
       " 1.3548574533168503,\n",
       " 1.3554304382064473,\n",
       " 1.356043479480718,\n",
       " 1.35669604415384,\n",
       " 1.3573876068029493,\n",
       " 1.3581176494184783,\n",
       " 1.3588856612580564,\n",
       " 1.3596911387039063,\n",
       " 1.360533585123631,\n",
       " 1.3614125107343256,\n",
       " 1.3623274324699028,\n",
       " 1.3632778738515918,\n",
       " 1.3642633648614868,\n",
       " 1.3652834418191022,\n",
       " 1.3663376472608422,\n",
       " 1.367425529822321,\n",
       " 1.368546644123458,\n",
       " 1.369700550656265,\n",
       " 1.3708868156752894,\n",
       " 1.3721050110906214,\n",
       " 1.3733547143634073,\n",
       " 1.3746355084037996,\n",
       " 1.3759469814713114,\n",
       " 1.3772887270774672,\n",
       " 1.3786603438907425,\n",
       " 1.3800614356436975,\n",
       " 1.3814916110422624,\n",
       " 1.382950483677133,\n",
       " 1.3844376719372067,\n",
       " 1.385952798925011,\n",
       " 1.3874954923740779,\n",
       " 1.3890653845682195,\n",
       " 1.390662112262647,\n",
       " 1.3922853166068976,\n",
       " 1.3939346430695136,\n",
       " 1.3956097413644384,\n",
       " 1.3973102653790852,\n",
       " 1.399035873104026,\n",
       " 1.4007862265642785,\n",
       " 1.4025609917521364,\n",
       " 1.4043598385615124,\n",
       " 1.4061824407237475,\n",
       " 1.408028475744862,\n",
       " 1.409897624844203,\n",
       " 1.4117895728944587,\n",
       " 1.4137040083629941,\n",
       " 1.4156406232544978,\n",
       " 1.417599113054885,\n",
       " 1.4195791766764352,\n",
       " 1.4215805164041297,\n",
       " 1.4236028378431729,\n",
       " 1.4256458498676416,\n",
       " 1.4277092645702598,\n",
       " 1.4297927972132618,\n",
       " 1.4318961661803022,\n",
       " 1.4340190929294239,\n",
       " 1.4361613019470059,\n",
       " 1.4383225207027195,\n",
       " 1.4405024796054255,\n",
       " 1.4427009119600172,\n",
       " 1.4449175539251735,\n",
       " 1.447152144471997,\n",
       " 1.4494044253435237,\n",
       " 1.4516741410150775,\n",
       " 1.4539610386554538,\n",
       " 1.456264868088897,\n",
       " 1.458585381757879,\n",
       " 1.4609223346866325,\n",
       " 1.4632754844454272,\n",
       " 1.465644591115589,\n",
       " 1.468029417255221,\n",
       " 1.470429727865613,\n",
       " 1.4728452903583409,\n",
       " 1.4752758745230106,\n",
       " 1.4777212524956576,\n",
       " 1.4801811987277704,\n",
       " 1.4826554899559188,\n",
       " 1.485143905171998,\n",
       " 1.4876462255940346,\n",
       " 1.4901622346375771,\n",
       " 1.4926917178876367,\n",
       " 1.4952344630711663,\n",
       " 1.4977902600300705,\n",
       " 1.5003589006947382,\n",
       " 1.502940179058065,\n",
       " 1.5055338911499812,\n",
       " 1.508139835012445,\n",
       " 1.5107578106749175,\n",
       " 1.5133876201302883,\n",
       " 1.5160290673112402,\n",
       " 1.5186819580670545,\n",
       " 1.5213461001408561,\n",
       " 1.5240213031472398,\n",
       " 1.5267073785503351,\n",
       " 1.5294041396422446,\n",
       " 1.5321114015218773,\n",
       " 1.5348289810741544,\n",
       " 1.537556696949589,\n",
       " 1.540294369544213,\n",
       " 1.5430418209798733,\n",
       " 1.5457988750848524,\n",
       " 1.548565357374831,\n",
       " 1.551341095034178,\n",
       " 1.5541259168975614,\n",
       " 1.5569196534318614,\n",
       " 1.559722136718397,\n",
       " 1.5625332004354555,\n",
       " 1.5653526798410866,\n",
       " 1.5681804117562157,\n",
       " 1.5710162345480034,\n",
       " 1.573859988113498,\n",
       " 1.5767115138635415,\n",
       " 1.5795706547069326,\n",
       " 1.582437255034849,\n",
       " 1.5853111607055181,\n",
       " 1.5881922190291204,\n",
       " 1.5910802787529346,\n",
       " 1.5939751900467167,\n",
       " 1.596876804488295,\n",
       " 1.5997849750493975,\n",
       " 1.6026995560816832,\n",
       " 1.6056204033029977,\n",
       " 1.608547373783812,\n",
       " 1.6114803259339054,\n",
       " 1.6144191194891897,\n",
       " 1.6173636154987727,\n",
       " 1.6203136763121864,\n",
       " 1.6232691655668068,\n",
       " 1.6262299481754567,\n",
       " 1.6291958903141803,\n",
       " 1.6321668594101941,\n",
       " 1.6351427241300005,\n",
       " 1.6381233543676812,\n",
       " 1.641108621233339,\n",
       " 1.6440983970416994,\n",
       " 1.6470925553008786,\n",
       " 1.6500909707012943,\n",
       " 1.653093519104722,\n",
       " 1.656100077533509,\n",
       " 1.6591105241599198,\n",
       " 1.6621247382956335,\n",
       " 1.6651426003813625,\n",
       " 1.668163991976615,\n",
       " 1.6711887957495972,\n",
       " 1.6742168954672199,\n",
       " 1.6772481759852653,\n",
       " 1.6802825232386391,\n",
       " 1.6833198242317737,\n",
       " 1.6863599670291416,\n",
       " 1.6894028407458765,\n",
       " 1.6924483355385247,\n",
       " 1.69549634259589,\n",
       " 1.6985467541300046,\n",
       " 1.701599463367203,\n",
       " 1.704654364539283,\n",
       " 1.7077113528748145,\n",
       " 1.7107703245904942,\n",
       " 1.7138311768826489,\n",
       " 1.7168938079188039,\n",
       " 1.7199581168293667,\n",
       " 1.723024003699392,\n",
       " 1.7260913695604458,\n",
       " 1.7291601163825687,\n",
       " 1.7322301470663037,\n",
       " 1.735301365434839,\n",
       " 1.7383736762262143,\n",
       " 1.7414469850856404,\n",
       " 1.744521198557861,\n",
       " 1.747596224079633,\n",
       " 1.7506719699722646,\n",
       " 1.7537483454342497,\n",
       " 1.7568252605339536,\n",
       " 1.7599026262024098,\n",
       " 1.7629803542261584,\n",
       " 1.7660583572401805,\n",
       " 1.7691365487208872,\n",
       " 1.7722148429791977,\n",
       " 1.7752931551536733,\n",
       " 1.7783714012037288,\n",
       " 1.7814494979029027,\n",
       " 1.7845273628322045,\n",
       " 1.7876049143735122,\n",
       " 1.790682071703059,\n",
       " 1.7937587547849554,\n",
       " 1.796834884364789,\n",
       " 1.7999103819632858,\n",
       " 1.802985169870028,\n",
       " 1.806059171137232,\n",
       " 1.8091323095735843,\n",
       " 1.8122045097381414,\n",
       " 1.8152756969342676,\n",
       " 1.8183457972036638,\n",
       " 1.8214147373204077,\n",
       " 1.824482444785091,\n",
       " 1.82754884781897,\n",
       " 1.8306138753582086,\n",
       " 1.8336774570481378,\n",
       " 1.8367395232375918,\n",
       " 1.839800004973281,\n",
       " 1.8428588339942222,\n",
       " 1.8459159427262086,\n",
       " 1.8489712642763467,\n",
       " 1.8520247324276118,\n",
       " 1.8550762816334838,\n",
       " 1.8581258470126025,\n",
       " 1.861173364343488,\n",
       " 1.8642187700592912,\n",
       " 1.8672620012426027,\n",
       " 1.8703029956202932,\n",
       " 1.873341691558408,\n",
       " 1.8763780280571007,\n",
       " 1.8794119447455995,\n",
       " 1.8824433818772428,\n",
       " 1.885472280324521,\n",
       " 1.8884985815741848,\n",
       " 1.8915222277223844,\n",
       " 1.894543161469851,\n",
       " 1.8975613261171134,\n",
       " 1.9005766655597585,\n",
       " 1.9035891242837344,\n",
       " 1.9065986473606769,\n",
       " 1.9096051804432812,\n",
       " 1.9126086697607259,\n",
       " 1.9156090621141069,\n",
       " 1.9186063048719288,\n",
       " 1.9216003459656215,\n",
       " 1.9245911338850896,\n",
       " 1.927578617674312,\n",
       " 1.9305627469269615,\n",
       " 1.9335434717820659,\n",
       " 1.9365207429197036,\n",
       " 1.9394945115567248,\n",
       " 1.9424647294425148,\n",
       " 1.9454313488547894,\n",
       " 1.9483943225954148,\n",
       " 1.9513536039862798,\n",
       " 1.954309146865163,\n",
       " 1.9572609055816783,\n",
       " 1.9602088349932096,\n",
       " 1.9631528904609072,\n",
       " 1.9660930278456976,\n",
       " 1.9690292035043262,\n",
       " 1.9719613742854356,\n",
       " 1.9748894975256706,\n",
       " 1.9778135310458094,\n",
       " 1.9807334331469326,\n",
       " 1.9836491626066117,\n",
       " 1.9865606786751306,\n",
       " 1.989467941071738,\n",
       " 1.9923709099809175,\n",
       " 1.9952695460487042,\n",
       " 1.9981638103790036,\n",
       " 2.0010536645299695,\n",
       " 2.0039390705103766,\n",
       " 2.006819990776043,\n",
       " 2.0096963882262684,\n",
       " 2.0125682262002984,\n",
       " 2.0154354684738274,\n",
       " 2.0182980792555045,\n",
       " 2.021156023183494,\n",
       " 2.0240092653220305,\n",
       " 2.026857771158029,\n",
       " 2.0297015065976898,\n",
       " 2.032540437963161,\n",
       " 2.035374531989198,\n",
       " 2.038203755819859,\n",
       " 2.0410280770052243,\n",
       " 2.0438474634981474,\n",
       " 2.0466618836510087,\n",
       " 2.0494713062125105,\n",
       " 2.052275700324493,\n",
       " 2.055075035518769,\n",
       " 2.0578692817139825,\n",
       " 2.060658409212494,\n",
       " 2.063442388697284,\n",
       " 2.0662211912288795,\n",
       " 2.068994788242304,\n",
       " 2.071763151544058,\n",
       " 2.074526253309097,\n",
       " 2.0772840660778606,\n",
       " 2.080036562753302,\n",
       " 2.0827837165979517,\n",
       " 2.085525501231,\n",
       " 2.088261890625382,\n",
       " 2.090992859104926,\n",
       " 2.093718381341464,\n",
       " 2.0964384323520298,\n",
       " 2.099152987496021,\n",
       " 2.101862022472397,\n",
       " 2.104565513316928,\n",
       " 2.1072634363994216,\n",
       " 2.1099557684209866,\n",
       " 2.1126424864113225,\n",
       " 2.115323567726023,\n",
       " 2.117998990043898,\n",
       " 2.1206687313643102,\n",
       " 2.1233327700045477,\n",
       " 2.125991084597189,\n",
       " 2.128643654087518,\n",
       " 2.1312904577309344,\n",
       " 2.133931475090383,\n",
       " 2.136566686033818,\n",
       " 2.139196070731675,\n",
       " 2.1418196096543594,\n",
       " 2.144437283569754,\n",
       " 2.147049073540756,\n",
       " 2.149654960922807,\n",
       " 2.1522549273614686,\n",
       " 2.154848954789994,\n",
       " 2.15743702542693,\n",
       " 2.1600191217737317,\n",
       " 2.1625952266123907,\n",
       " 2.1651653230030887,\n",
       " 2.167729394281864,\n",
       " 2.1702874240582912,\n",
       " 2.1728393962131736,\n",
       " 2.17538529489628,\n",
       " 2.1779251045240566,\n",
       " 2.1804588097773814,\n",
       " 2.1829863955993356,\n",
       " 2.185507847192983,\n",
       " 2.1880231500191596,\n",
       " 2.190532289794292,\n",
       " 2.1930352524882277,\n",
       " 2.1955320243220795,\n",
       " 2.1980225917660796,\n",
       " 2.2005069415374603,\n",
       " 2.202985060598351,\n",
       " 2.2054569361536673,\n",
       " 2.2079225556490445,\n",
       " 2.2103819067687813,\n",
       " 2.2128349774337677,\n",
       " 2.2152817557994764,\n",
       " 2.217722230253927,\n",
       " 2.2201563894156826,\n",
       " 2.2225842221318737,\n",
       " 2.225005717476202,\n",
       " 2.2274208647469997,\n",
       " 2.229829653465269,\n",
       " 2.232232073372749,\n",
       " 2.234628114430004,\n",
       " 2.237017766814514,\n",
       " 2.23940102091879,\n",
       " 2.2417778673484836,\n",
       " 2.2441482969205366,\n",
       " 2.2465123006613292,\n",
       " 2.2488698698048304,\n",
       " 2.2512209957907974,\n",
       " 2.253565670262945,\n",
       " 2.255903885067157,\n",
       " 2.258235632249706,\n",
       " 2.2605609040554784,\n",
       " 2.2628796929262225,\n",
       " 2.265191991498793,\n",
       " 2.2674977926034328,\n",
       " 2.2697970892620383,\n",
       " 2.2720898746864724,\n",
       " 2.2743761422768514,\n",
       " 2.276655885619872,\n",
       " 2.278929098487149,\n",
       " 2.281195774833542,\n",
       " 2.2834559087955255,\n",
       " 2.2857094946895495,\n",
       " 2.287956527010417,\n",
       " 2.2901970004296817,\n",
       " 2.2924309097940467,\n",
       " 2.294658250123776,\n",
       " 2.2968790166111295,\n",
       " 2.2990932046187975,\n",
       " 2.3013008096783447,\n",
       " 2.3035018274886863,\n",
       " 2.305696253914543,\n",
       " 2.3078840849849387,\n",
       " 2.3100653168916834,\n",
       " 2.3122399459878937,\n",
       " 2.314407968786501,\n",
       " 2.316569381958779,\n",
       " 2.3187241823328892,\n",
       " 2.320872366892426,\n",
       " 2.3230139327749875,\n",
       " 2.325148877270724,\n",
       " 2.3272771978209565,\n",
       " 2.3293988920167323,\n",
       " 2.331513957597455,\n",
       " 2.3336223924494854,\n",
       " 2.335724194604776,\n",
       " 2.3378193622394914,\n",
       " 2.339907893672661,\n",
       " 2.341989787364845,\n",
       " 2.3440650419167754,\n",
       " 2.3461336560680506,\n",
       " 2.348195628695819,\n",
       " 2.3502509588134597,\n",
       " 2.3522996455693077,\n",
       " 2.354341688245344,\n",
       " 2.3563770862559488,\n",
       " 2.3584058391466054,\n",
       " 2.360427946592673,\n",
       " 2.362443408398111,\n",
       " 2.3644522244942654,\n",
       " 2.366454394938628,\n",
       " 2.368449919913616,\n",
       " 2.3704387997253686,\n",
       " 2.3724210348025436,\n",
       " 2.3743966256951285,\n",
       " 2.376365573073249,\n",
       " 2.3783278777260093,\n",
       " 2.3802835405603147,\n",
       " 2.382232562599725,\n",
       " 2.3841749449833047,\n",
       " 2.3861106889644823,\n",
       " 2.3880397959099255,\n",
       " 2.3899622672984187,\n",
       " 2.3918781047197437,\n",
       " 2.393787309873592,\n",
       " 2.3956898845684536,\n",
       " 2.397585830720535,\n",
       " 2.3994751503526897,\n",
       " 2.4013578455933318,\n",
       " 2.4032339186753844,\n",
       " 2.4051033719352293,\n",
       " 2.406966207811653,\n",
       " 2.408822428844808,\n",
       " 2.4106720376751904,\n",
       " 2.4125150370426156,\n",
       " 2.4143514297852016,\n",
       " 2.4161812188383647,\n",
       " 2.41800440723382,\n",
       " 2.419820998098597,\n",
       " 2.4216309946540457,\n",
       " 2.4234344002148713,\n",
       " 2.4252312181881623,\n",
       " 2.4270214520724345,\n",
       " 2.4288051054566693,\n",
       " 2.4305821820193727,\n",
       " 2.4323526855276447,\n",
       " 2.4341166198362405,\n",
       " 2.4358739888866427,\n",
       " 2.4376247967061673,\n",
       " 2.4393690474070215,\n",
       " 2.4411067451854276,\n",
       " 2.4428378943207214,\n",
       " 2.4445624991744648,\n",
       " 2.4462805641895584,\n",
       " 2.44799209388937,\n",
       " 2.4496970928768804,\n",
       " 2.4513955658338045,\n",
       " 2.4530875175197533,\n",
       " 2.45477295277137,\n",
       " 2.456451876501509,\n",
       " 2.4581242936983903,\n",
       " 2.459790209424775,\n",
       " 2.461449628817148,\n",
       " 2.4631025570849028,\n",
       " 2.4647489995095317,\n",
       " 2.4663889614438306,\n",
       " 2.4680224483110957,\n",
       " 2.4696494656043386,\n",
       " 2.471270018885517,\n",
       " 2.4728841137847337,\n",
       " 2.474491755999494,\n",
       " 2.476092951293919,\n",
       " 2.477687705498005,\n",
       " 2.4792760245068637,\n",
       " 2.4808579142799783,\n",
       " 2.482433380840469,\n",
       " 2.484002430274348,\n",
       " 2.4855650687298088,\n",
       " 2.4871213024164853,\n",
       " 2.4886711376047566,\n",
       " 2.4902145806250156,\n",
       " 2.4917516378669853,\n",
       " 2.4932823157790014,\n",
       " 2.494806620867336,\n",
       " 2.496324559695491,\n",
       " 2.497836138883536,\n",
       " 2.4993413651074188,\n",
       " 2.5008402450983045,\n",
       " 2.5023327856419,\n",
       " 2.503818993577797,\n",
       " 2.505298875798816,\n",
       " 2.506772439250366,\n",
       " 2.50823969092979,\n",
       " 2.5097006378857305,\n",
       " 2.511155287217494,\n",
       " 2.512603646074425,\n",
       " 2.5140457216552856,\n",
       " 2.515481521207624,\n",
       " 2.5169110520271767,\n",
       " 2.5183343214572536,\n",
       " 2.5197513368881332,\n",
       " 2.5211621057564653,\n",
       " 2.5225666355446874,\n",
       " 2.523964933780418,\n",
       " 2.525357008035888,\n",
       " 2.526742865927358,\n",
       " 2.5281225151145357,\n",
       " 2.5294959633000245,\n",
       " 2.5308632182287467,\n",
       " 2.5322242876873813,\n",
       " 2.5335791795038154,\n",
       " 2.534927901546595,\n",
       " 2.536270461724371,\n",
       " 2.5376068679853674,\n",
       " 2.5389371283168356,\n",
       " 2.5402612507445297,\n",
       " 2.5415792433321682,\n",
       " 2.5428911141809234,\n",
       " 2.544196871428895,\n",
       " 2.545496523250597,\n",
       " 2.546790077856444,\n",
       " 2.5480775434922514,\n",
       " 2.5493589284387177,\n",
       " 2.5506342410109544,\n",
       " 2.5519034895579664,\n",
       " 2.553166682462179,\n",
       " 2.554423828138942,\n",
       " 2.5556749350360564,\n",
       " 2.5569200116332875,\n",
       " 2.558159066441906,\n",
       " 2.559392108004208,\n",
       " 2.5606191448930535,\n",
       " 2.5618401857114113,\n",
       " 2.5630552390918804,\n",
       " 2.5642643136962704,\n",
       " 2.5654674182151247,\n",
       " 2.5666645613672836,\n",
       " 2.5678557518994514,\n",
       " 2.5690409985857356,\n",
       " 2.5702203102272474,\n",
       " 2.57139369565163,\n",
       " 2.5725611637126717,\n",
       " 2.573722723289854,\n",
       " 2.574878383287949,\n",
       " 2.576028152636588,\n",
       " 2.5771720402898706,\n",
       " 2.5783100552259346,\n",
       " 2.579442206446568,\n",
       " 2.5805685029767966,\n",
       " 2.581688953864488,\n",
       " 2.5828035681799553,\n",
       " 2.583912355015586,\n",
       " 2.585015323485413,\n",
       " 2.5861124827247726,\n",
       " 2.5872038418899006,\n",
       " 2.5882894101575555,\n",
       " 2.5893691967246526,\n",
       " 2.5904432108078863,\n",
       " 2.5915114616433663,\n",
       " 2.592573958486249,\n",
       " 2.5936307106103866,\n",
       " 2.5946817273079494,\n",
       " 2.59572701788909,\n",
       " 2.596766591681577,\n",
       " 2.597800458030464,\n",
       " 2.5988286262977236,\n",
       " 2.599851105861924,\n",
       " 2.600867906117866,\n",
       " 2.601879036476274,\n",
       " 2.6028845063634405,\n",
       " 2.603884325220911,\n",
       " 2.60487850250514,\n",
       " 2.60586704768719,\n",
       " 2.6068499702523877,\n",
       " 2.60782727970001,\n",
       " 2.608798985542981,\n",
       " 2.6097650973075424,\n",
       " 2.610725624532958,\n",
       " 2.611680576771191,\n",
       " 2.6126299635866093,\n",
       " 2.6135737945556854,\n",
       " 2.614512079266694,\n",
       " 2.615444827319412,\n",
       " 2.6163720483248305,\n",
       " 2.6172937519048585,\n",
       " 2.618209947692045,\n",
       " 2.6191206453292755,\n",
       " 2.620025854469505,\n",
       " 2.620925584775479,\n",
       " 2.6218198459194326,\n",
       " 2.6227086475828463,\n",
       " 2.623591999456155,\n",
       " 2.6244699112384744,\n",
       " 2.625342392637344,\n",
       " 2.626209453368462,\n",
       " 2.6270711031554153,\n",
       " 2.627927351729418,\n",
       " 2.6287782088290648,\n",
       " 2.6296236842000633,\n",
       " 2.6304637875949872,\n",
       " 2.631298528773034,\n",
       " 2.6321279174997483,\n",
       " 2.6329519635468173,\n",
       " 2.633770676691787,\n",
       " 2.634584066717845,\n",
       " 2.635392143413577,\n",
       " 2.636194916572727,\n",
       " 2.6369923959939596,\n",
       " 2.637784591480636,\n",
       " 2.638571512840576,\n",
       " 2.639353169885841,\n",
       " 2.640129572432497,\n",
       " 2.6409007303003857,\n",
       " 2.641666653312931,\n",
       " 2.642427351296888,\n",
       " 2.6431828340821397,\n",
       " 2.6439331115014877,\n",
       " 2.6446781933904253,\n",
       " 2.6454180895869386,\n",
       " 2.646152809931293,\n",
       " 2.646882364265825,\n",
       " 2.64760676243474,\n",
       " 2.6483260142839065,\n",
       " 2.6490401296606616,\n",
       " 2.649749118413598,\n",
       " 2.6504529903923917,\n",
       " 2.651151755447577,\n",
       " 2.651845423430379,\n",
       " 2.652534004192507,\n",
       " 2.6532175075859716,\n",
       " 2.6538959434628975,\n",
       " 2.6545693216753334,\n",
       " 2.6552376520750767,\n",
       " 2.6559009445134807,\n",
       " 2.6565592088412875,\n",
       " 2.657212454908438,\n",
       " 2.657860692563903,\n",
       " 2.6585039316555044,\n",
       " 2.6591421820297443,\n",
       " 2.6597754535316422,\n",
       " 2.660403756004543,\n",
       " 2.66102709928997,\n",
       " 2.661645493227462,\n",
       " 2.662258947654389,\n",
       " 2.662867472405807,\n",
       " 2.6634710773142816,\n",
       " 2.6640697722097504,\n",
       " 2.664663566919345,\n",
       " 2.665252471267253,\n",
       " 2.6658364950745437,\n",
       " 2.666415648159027,\n",
       " 2.66698994033511,\n",
       " 2.6675593814136347,\n",
       " 2.668123981201731,\n",
       " 2.668683749502676,\n",
       " 2.669238696115747,\n",
       " 2.6697888308360778,\n",
       " 2.670334163454523,\n",
       " 2.6708747037575047,\n",
       " 2.671410461526886,\n",
       " 2.6719414465398232,\n",
       " 2.672467668568642,\n",
       " 2.672989137380701,\n",
       " 2.673505862738243,\n",
       " 2.6740178543982838,\n",
       " 2.674525122112472,\n",
       " 2.675027675626958,\n",
       " 2.6755255246822798,\n",
       " 2.6760186790132194,\n",
       " 2.676507148348695,\n",
       " 2.6769909424116283,\n",
       " 2.677470070918823,\n",
       " 2.6779445435808453,\n",
       " 2.678414370101917,\n",
       " 2.678879560179768,\n",
       " 2.679340123505556,\n",
       " 2.679796069763727,\n",
       " 2.6802474086319092,\n",
       " 2.6806941497807992,\n",
       " 2.681136302874055,\n",
       " 2.681573877568185,\n",
       " 2.6820068835124253,\n",
       " 2.6824353303486554,\n",
       " 2.68285922771128,\n",
       " 2.683278585227121,\n",
       " 2.6836934125153196,\n",
       " 2.6841037191872306,\n",
       " 2.684509514846322,\n",
       " 2.684910809088074,\n",
       " 2.6853076114998844,\n",
       " 2.6856999316609613,\n",
       " 2.6860877791422393,\n",
       " 2.686471163506271,\n",
       " 2.686850094307137,\n",
       " 2.687224581090368,\n",
       " 2.68759463339282,\n",
       " 2.68796026074261,\n",
       " 2.6883214726590214,\n",
       " 2.6886782786524037,\n",
       " 2.689030688224101,\n",
       " 2.689378710866349,\n",
       " 2.6897223560622057,\n",
       " 2.690061633285452,\n",
       " 2.690396552000515,\n",
       " 2.6907271216623836,\n",
       " 2.6910533517165347,\n",
       " 2.691375251598838,\n",
       " 2.6916928307354913,\n",
       " 2.692006098542931,\n",
       " 2.6923150644277594,\n",
       " 2.692619737786672,\n",
       " 2.6929201280063713,\n",
       " 2.6932162444635073,\n",
       " 2.6935080965245857,\n",
       " 2.693795693545911,\n",
       " 2.6940790448735084,\n",
       " 2.694358159843052,\n",
       " 2.694633047779795,\n",
       " 2.694903717998501,\n",
       " 2.6951701798033856,\n",
       " 2.695432442488031,\n",
       " 2.695690515335331,\n",
       " 2.6959444076174295,\n",
       " 2.696194128595648,\n",
       " 2.696439687520429,\n",
       " 2.6966810936312577,\n",
       " 2.6969183561566243,\n",
       " 2.6971514843139444,\n",
       " 2.6973804873095024,\n",
       " 2.697605374338401,\n",
       " 2.6978261545844946,\n",
       " 2.69804283722033,\n",
       " 2.6982554314070994,\n",
       " 2.6984639462945728,\n",
       " 2.698668391021052,\n",
       " 2.6988687747133095,\n",
       " 2.6990651064865405,\n",
       " 2.6992573954443007,\n",
       " 2.699445650678472,\n",
       " 2.6996298812691917,\n",
       " 2.6998100962848186,\n",
       " 2.6999863047818633,\n",
       " 2.7001585158049606,\n",
       " 2.7003267383868086,\n",
       " 2.7004909815481244,\n",
       " 2.700651254297597,\n",
       " 2.7008075656318424,\n",
       " 2.70095992453536,\n",
       " 2.7011083399804745,\n",
       " 2.7012528209273188,\n",
       " 2.7013933763237588,\n",
       " 2.701530015105381,\n",
       " 2.7016627461954243,\n",
       " 2.7017915785047597,\n",
       " 2.701916520931834,\n",
       " 2.702037582362649,\n",
       " 2.702154771670694,\n",
       " 2.702268097716942]"
      ]
     },
     "execution_count": 66,
     "metadata": {},
     "output_type": "execute_result"
    }
   ],
   "source": [
    "val_errors"
   ]
  },
  {
   "cell_type": "code",
   "execution_count": 70,
   "metadata": {
    "ExecuteTime": {
     "end_time": "2021-04-07T09:29:33.519972Z",
     "start_time": "2021-04-07T09:29:33.300514Z"
    }
   },
   "outputs": [
    {
     "data": {
      "image/png": "[encoded data removed]",
      "text/plain": [
       "<Figure size 432x288 with 1 Axes>"
      ]
     },
     "metadata": {
      "needs_background": "light"
     },
     "output_type": "display_data"
    }
   ],
   "source": [
    "\n",
    "best_epoch = np.argmin(val_errors)\n",
    "best_val_rmse = np.sqrt(val_errors[best_epoch])\n",
    "\n",
    "plt.annotate('Best model',\n",
    "             xy=(best_epoch, best_val_rmse),\n",
    "             xytext=(best_epoch, best_val_rmse + 1),\n",
    "             ha=\"center\",\n",
    "             arrowprops=dict(facecolor='black', shrink=0.05),\n",
    "             fontsize=16,\n",
    "            )\n",
    "\n",
    "best_val_rmse -= 0.03  # just to make the graph look better\n",
    "plt.plot([0, n_epochs], [best_val_rmse, best_val_rmse], \"k:\", linewidth=2)\n",
    "plt.plot(np.sqrt(val_errors), \"b-\", linewidth=3, label=\"Validation set\")\n",
    "plt.plot(np.sqrt(train_errors), \"r--\", linewidth=2, label=\"Training set\")\n",
    "plt.legend(loc=\"upper right\", fontsize=14)\n",
    "plt.xlabel(\"Epoch\", fontsize=14)\n",
    "plt.ylabel(\"RMSE\", fontsize=14)\n",
    "plt.show()"
   ]
  },
  {
   "cell_type": "markdown",
   "metadata": {},
   "source": [
    "## 逻辑回归\n",
    "Logistic Regression 逻辑回归被广泛用于估算一个实例属于某个特定类别的概率。它是一个二元分类器。（如果预测大于0。5，则标记为，反之被标记为0）\n",
    "\n",
    "### 估计概率\n",
    "工作原理： LR 就像线性回归模型一样，LR计算输入特征的加权和（加上偏置项）。\n",
    "\n",
    "LR输出是一个0-1的概率（数理逻辑值），$\\hat{p}=h_\\theta(\\mathbf{x})=\\sigma(\\theta^T  \\cdot \\mathbf{x})$\n",
    "\n",
    "Sigmoid函数如下：\n",
    "$$\\sigma(t)=\\frac{1}{1+exp(-t)}$$\n",
    "\n",
    "### 训练和成本函数\n",
    "训练的目的是设置参数向量 $\\theta$，使得正例$y=1$概率增大，负例$y=0$的概率减小，其通过在单个训练实例 $\\mathbf{x}$的损失函数来实现\n",
    "\n",
    "***单个例子的成本函数***\n",
    "\n",
    "$$c(\\theta)= \\begin{cases} -log(\\hat{p}), &y=1 \\\\ -log(1-\\hat{p}),&y=0 \\\\ \\end{cases}$$\n",
    "\n",
    "***LR成本函数***\n",
    "\n",
    "$$J(\\theta)=-\\frac{1}{m}\\sum\\limits_{i=1}^m\\left[y^{(i)}log\\left(\\hat{p}^{(i)}\\right)+\\left(1-y^{(i)}\\right)log\\left(1-\\hat{p}^{(i)}\\right)\\right]$$\n",
    "\n",
    "### 决策边界"
   ]
  },
  {
   "cell_type": "code",
   "execution_count": 72,
   "metadata": {
    "ExecuteTime": {
     "end_time": "2021-04-07T13:26:48.853347Z",
     "start_time": "2021-04-07T13:26:48.768255Z"
    }
   },
   "outputs": [
    {
     "data": {
      "text/plain": [
       "['data',\n",
       " 'target',\n",
       " 'frame',\n",
       " 'target_names',\n",
       " 'DESCR',\n",
       " 'feature_names',\n",
       " 'filename']"
      ]
     },
     "execution_count": 72,
     "metadata": {},
     "output_type": "execute_result"
    }
   ],
   "source": [
    "from sklearn import datasets\n",
    "iris = datasets.load_iris()\n",
    "list(iris.keys())"
   ]
  },
  {
   "cell_type": "code",
   "execution_count": 77,
   "metadata": {
    "ExecuteTime": {
     "end_time": "2021-04-07T13:29:15.434573Z",
     "start_time": "2021-04-07T13:29:15.431523Z"
    }
   },
   "outputs": [],
   "source": [
    "X = iris['data'][:, 3:]\n",
    "y = (iris['target'] ==2).astype(np.int)"
   ]
  },
  {
   "cell_type": "code",
   "execution_count": 80,
   "metadata": {
    "ExecuteTime": {
     "end_time": "2021-04-08T02:53:05.863592Z",
     "start_time": "2021-04-08T02:53:05.850968Z"
    }
   },
   "outputs": [
    {
     "data": {
      "text/plain": [
       "LogisticRegression()"
      ]
     },
     "execution_count": 80,
     "metadata": {},
     "output_type": "execute_result"
    }
   ],
   "source": [
    "# 训练一个logistic regression模型\n",
    "from sklearn.linear_model import LogisticRegression\n",
    "\n",
    "log_reg = LogisticRegression()\n",
    "log_reg.fit(X, y)"
   ]
  },
  {
   "cell_type": "code",
   "execution_count": 91,
   "metadata": {
    "ExecuteTime": {
     "end_time": "2021-04-08T02:57:00.496846Z",
     "start_time": "2021-04-08T02:57:00.320015Z"
    }
   },
   "outputs": [
    {
     "data": {
      "text/plain": [
       "[<matplotlib.lines.Line2D at 0x7f821617d450>]"
      ]
     },
     "execution_count": 91,
     "metadata": {},
     "output_type": "execute_result"
    },
    {
     "data": {
      "image/png": "[encoded data removed]",
      "text/plain": [
       "<Figure size 432x288 with 1 Axes>"
      ]
     },
     "metadata": {
      "needs_background": "light"
     },
     "output_type": "display_data"
    }
   ],
   "source": [
    "import numpy as np\n",
    "X_new = np.linspace(0, 3, 1000).reshape(-1, 1) # -1 意味着这个维度没有指定 [-1, 1]\n",
    "y_proba = log_reg.predict_proba(X_new)\n",
    "plt.plot(X_new, y_proba[:, 1], \"g-\", label = \"Iris virginica\")\n",
    "plt.plot(X_new, y_proba[:, 0], \"b--\", label = \"Not Iris virginica\")"
   ]
  },
  {
   "cell_type": "code",
   "execution_count": 106,
   "metadata": {
    "ExecuteTime": {
     "end_time": "2021-04-08T03:18:32.148793Z",
     "start_time": "2021-04-08T03:18:32.144602Z"
    }
   },
   "outputs": [
    {
     "data": {
      "text/plain": [
       "array([1, 0])"
      ]
     },
     "execution_count": 106,
     "metadata": {},
     "output_type": "execute_result"
    }
   ],
   "source": [
    "log_reg.predict([[1.8],[1.5]])"
   ]
  },
  {
   "cell_type": "markdown",
   "metadata": {},
   "source": [
    "在 Scikit-Learn 的`LogisticRegression`模型中控制正则化强度的超参数不是 $\\alpha$（与其他线性模型一样），而是它的逆：$C$, C的值越大，模型正则化强度越低。"
   ]
  },
  {
   "cell_type": "markdown",
   "metadata": {},
   "source": [
    "### Softmax 回归\n",
    "LR模型经过推广，可以扩展到支持多个分类，而不需要训练多个二元分类器。可以叫做***多元逻辑回归***\n",
    "\n",
    "#### 模型\n",
    "*类k*的softmax分数： $s_k(\\mathbf{x})= \\theta^T  \\cdot \\mathbf{x}$。每个类都有自己特定参数向量$\\theta_k$。一旦为实例x计算了每个类的softmax分数，就可以通过softmax 函数来估计例子属于某类k的概率。\n",
    "\n",
    "Softmax函数是计算每个softmax分数的指数，然后对其进行归一化（除以所有分数的总和）。\n",
    "$$\\hat{p_k}=\\sigma{(\\mathbf{s}(\\mathbf{x}))}k= \\frac{exp\\left(s_k(\\mathbf{x})\\right)} {\\sum_{j=1}^{K}exp\\left(s_j(\\mathbf{x})\\right)}$$\n",
    "\n",
    "***SoftMax 回归模型分类器预测结果***:\n",
    "$$\\hat{y}=argmax\\ \\sigma{(\\mathbf{s}(\\mathbf{x}))_k}=argmax \\ s_k(\\mathbf{x})=argmax \\ \\left( \\theta_k^T  \\cdot \\mathbf{x}\\right)$$\n",
    "`argmax`运算返回一个函数取到最大值的变量值。 在这个等式，它返回使 $\\sigma{(\\mathbf{s}(\\mathbf{x}))_k}$ 最大值\n",
    "\n",
    "#### 损失函数\n",
    "$$J(\\Theta)=-\\frac{1}{m}\\sum\\limits_{i=1}^m\\sum\\limits_{k=1}^Ky_k^{(i)}log\\left(\\hat{p}_k^{(i)}\\right)$$"
   ]
  },
  {
   "cell_type": "code",
   "execution_count": 111,
   "metadata": {
    "ExecuteTime": {
     "end_time": "2021-04-08T07:20:37.405284Z",
     "start_time": "2021-04-08T07:20:37.367345Z"
    }
   },
   "outputs": [
    {
     "data": {
      "text/plain": [
       "array([2])"
      ]
     },
     "execution_count": 111,
     "metadata": {},
     "output_type": "execute_result"
    }
   ],
   "source": [
    "X = iris[\"data\"][:, (2, 3)] # petal length, petal width\n",
    "y = iris[\"target\"]\n",
    "\n",
    "softmax_reg = LogisticRegression(multi_class=\"multinomial\",solver=\"lbfgs\", C=10)\n",
    "softmax_reg.fit(X, y)\n",
    "\n",
    "softmax_reg.predict([[5,2]])"
   ]
  },
  {
   "cell_type": "code",
   "execution_count": 113,
   "metadata": {
    "ExecuteTime": {
     "end_time": "2021-04-08T07:21:08.092523Z",
     "start_time": "2021-04-08T07:21:08.087019Z"
    }
   },
   "outputs": [
    {
     "data": {
      "text/plain": [
       "array([0, 0, 0, 0, 0, 0, 0, 0, 0, 0, 0, 0, 0, 0, 0, 0, 0, 0, 0, 0, 0, 0,\n",
       "       0, 0, 0, 0, 0, 0, 0, 0, 0, 0, 0, 0, 0, 0, 0, 0, 0, 0, 0, 0, 0, 0,\n",
       "       0, 0, 0, 0, 0, 0, 1, 1, 1, 1, 1, 1, 1, 1, 1, 1, 1, 1, 1, 1, 1, 1,\n",
       "       1, 1, 1, 1, 1, 1, 1, 1, 1, 1, 1, 1, 1, 1, 1, 1, 1, 1, 1, 1, 1, 1,\n",
       "       1, 1, 1, 1, 1, 1, 1, 1, 1, 1, 1, 1, 2, 2, 2, 2, 2, 2, 2, 2, 2, 2,\n",
       "       2, 2, 2, 2, 2, 2, 2, 2, 2, 2, 2, 2, 2, 2, 2, 2, 2, 2, 2, 2, 2, 2,\n",
       "       2, 2, 2, 2, 2, 2, 2, 2, 2, 2, 2, 2, 2, 2, 2, 2, 2, 2])"
      ]
     },
     "execution_count": 113,
     "metadata": {},
     "output_type": "execute_result"
    }
   ],
   "source": [
    "y"
   ]
  },
  {
   "cell_type": "code",
   "execution_count": null,
   "metadata": {},
   "outputs": [],
   "source": []
  }
 ],
 "metadata": {
  "kernelspec": {
   "display_name": "Python 3",
   "language": "python",
   "name": "python3"
  },
  "language_info": {
   "codemirror_mode": {
    "name": "ipython",
    "version": 3
   },
   "file_extension": ".py",
   "mimetype": "text/x-python",
   "name": "python",
   "nbconvert_exporter": "python",
   "pygments_lexer": "ipython3",
   "version": "3.7.6"
  },
  "toc": {
   "base_numbering": 1,
   "nav_menu": {},
   "number_sections": true,
   "sideBar": true,
   "skip_h1_title": false,
   "title_cell": "Table of Contents",
   "title_sidebar": "Contents",
   "toc_cell": false,
   "toc_position": {},
   "toc_section_display": true,
   "toc_window_display": false
  },
  "varInspector": {
   "cols": {
    "lenName": 16,
    "lenType": 16,
    "lenVar": 40
   },
   "kernels_config": {
    "python": {
     "delete_cmd_postfix": "",
     "delete_cmd_prefix": "del ",
     "library": "var_list.py",
     "varRefreshCmd": "print(var_dic_list())"
    },
    "r": {
     "delete_cmd_postfix": ") ",
     "delete_cmd_prefix": "rm(",
     "library": "var_list.r",
     "varRefreshCmd": "cat(var_dic_list()) "
    }
   },
   "types_to_exclude": [
    "module",
    "function",
    "builtin_function_or_method",
    "instance",
    "_Feature"
   ],
   "window_display": false
  }
 },
 "nbformat": 4,
 "nbformat_minor": 4
}
